{
 "cells": [
  {
   "cell_type": "markdown",
   "metadata": {},
   "source": [
    "# Estimating Correlation Using Discrete Copulas"
   ]
  },
  {
   "cell_type": "code",
   "execution_count": 388,
   "metadata": {},
   "outputs": [],
   "source": [
    "import numpy as np\n",
    "import pandas as pd\n",
    "import matplotlib.pyplot as plt\n",
    "\n",
    "import random\n",
    "\n",
    "from scipy.stats import truncnorm, poisson, norm, nbinom, multivariate_normal\n",
    "import scipy.stats as stats\n",
    "\n",
    "import tools as tl\n",
    "\n",
    "# load data\n",
    "data1_4 = pd.read_csv(\"mt-datasets/Donor1_CD4_Genes.csv\")\n",
    "# normalization\n",
    "data_norm = tl.RPM(data1_4)\n",
    "fitted_para = pd.read_csv('fitted_data/fitted_para.csv')\n",
    "\n",
    "data_pro = data_norm[fitted_para.columns.to_list()]\n",
    "data_pro = data_pro.reset_index(drop=True)\n",
    "N = data_pro.shape[0]"
   ]
  },
  {
   "cell_type": "markdown",
   "metadata": {},
   "source": [
    "Gaussian Copula"
   ]
  },
  {
   "cell_type": "code",
   "execution_count": 418,
   "metadata": {},
   "outputs": [
    {
     "data": {
      "text/plain": [
       "array([0.5183115 , 0.37842682])"
      ]
     },
     "execution_count": 418,
     "metadata": {},
     "output_type": "execute_result"
    }
   ],
   "source": [
    "def cdgaussian_copulas(u, range, rho):\n",
    "    '''inv2 = norm.ppf(u)\n",
    "    a, b = range\n",
    "    inv_a = norm.ppf(a)\n",
    "    inv_b = norm.ppf(b)\n",
    "    mu = inv2*rho\n",
    "    sigma = np.sqrt(1-rho ** 2)\n",
    "    inv1 = truncnorm.rvs((inv_a-mu) / sigma, (inv_b-mu) /\n",
    "                         sigma, loc=inv2*rho, scale=sigma)\n",
    "    val = norm.cdf(inv1)'''\n",
    "    u = np.asarray(u)\n",
    "    \n",
    "    # Compute inverse CDF (norm.ppf) for u\n",
    "    inv2 = norm.ppf(u)\n",
    "    \n",
    "    # Extract lower and upper bounds from the ranges matrix\n",
    "    a = [lis[0] for lis in range]\n",
    "    b = [lis[1] for lis in range]\n",
    "    \n",
    "    # Compute inverse CDF for the ranges\n",
    "    inv_a = norm.ppf(a)\n",
    "    inv_b = norm.ppf(b)\n",
    "    \n",
    "    # Compute mu and sigma for the truncated normal distribution\n",
    "    mu = inv2 * rho\n",
    "    sigma = np.sqrt(1 - rho ** 2)\n",
    "    \n",
    "    # Calculate the normalized bounds for the truncated normal distribution\n",
    "    lower_bounds = (inv_a - mu) / sigma\n",
    "    upper_bounds = (inv_b - mu) / sigma\n",
    "    \n",
    "    # Generate truncated normal samples in a vectorized manner\n",
    "    inv1 = truncnorm.rvs(lower_bounds, upper_bounds, loc=mu, scale=sigma, size=len(u))\n",
    "    \n",
    "    # Compute the cumulative distribution function (CDF) of the generated samples\n",
    "    val = norm.cdf(inv1)\n",
    "    \n",
    "    return val\n",
    "cdgaussian_copulas([0.5,0.4], [[0.4,0.7],[0.2,0.8]], 0.5)"
   ]
  },
  {
   "cell_type": "code",
   "execution_count": 391,
   "metadata": {},
   "outputs": [],
   "source": [
    "def zinb_cdf(k, para):\n",
    "    \"\"\"\n",
    "    Calculate the CDF of the Zero-Inflated Negative Binomial (ZINB) distribution.\n",
    "\n",
    "    Returns:\n",
    "    cdf : float\n",
    "        The cumulative probability of the ZINB distribution at k.\n",
    "    \"\"\"\n",
    "    # CDF of the Negative Binomial distribution\n",
    "    mu, r, p_zero = para\n",
    "    p = 1 - mu / (mu+r)\n",
    "    nb_cdf = stats.nbinom.cdf(k, r, p)\n",
    "\n",
    "    return 1-p_zero + p_zero * nb_cdf"
   ]
  },
  {
   "cell_type": "code",
   "execution_count": 392,
   "metadata": {},
   "outputs": [],
   "source": [
    "def get_range(data, para):\n",
    "    N = data.shape[0]\n",
    "    data_range = pd.DataFrame(index=range(N), columns=data.columns.to_list())\n",
    "    for col in data.columns:\n",
    "        para_0 = para[col]\n",
    "        if not pd.isna(para_0[2]):\n",
    "            for i in range(N):\n",
    "                x = data_pro[col][i]\n",
    "                data_range.loc[i, col] = [x, zinb_cdf(\n",
    "                    x-1, para_0), zinb_cdf(x, para_0)]\n",
    "        else:\n",
    "            for i in range(N):\n",
    "                x = data_pro[col][i]\n",
    "                data_range.loc[i, col] = [x, stats.nbinom.cdf(\n",
    "                    x-1, para_0[0], para_0[1]), stats.nbinom.cdf(x, para_0[0], para_0[1])]\n",
    "    return data_range\n",
    "\n",
    "data_range=get_range(data_pro, fitted_para)"
   ]
  },
  {
   "cell_type": "code",
   "execution_count": 393,
   "metadata": {},
   "outputs": [],
   "source": [
    "def truncnorm_prop_rho(x, sigma):  # proposal for rho (non-negative)\n",
    "    return truncnorm.rvs((-1-x) / sigma, (1-x) / sigma, loc=x, scale=sigma)\n",
    "\n",
    "def truncnorm_rho_pdf(x,x_p,sigma):\n",
    "    rv = truncnorm((-1-x) / sigma, (1-x) / sigma, loc=x, scale=sigma)\n",
    "    return rv.pdf(x_p)\n",
    "def set_initial(data):\n",
    "    N = data.shape[0]\n",
    "    data_initial = pd.DataFrame(index=range(N), columns=data.columns.to_list())\n",
    "    for col in data.columns:\n",
    "        for i in range(N):\n",
    "            data_initial.loc[i,col] = [random.uniform(\n",
    "                data[col][i][1], data[col][i][2])]\n",
    "            data_initial.loc[i,col]+=data[col][i][1:]\n",
    "    return data_initial\n",
    "\n",
    "initial_u = set_initial(data_range)"
   ]
  },
  {
   "cell_type": "code",
   "execution_count": 423,
   "metadata": {},
   "outputs": [],
   "source": [
    "def update_u(u1_initial, u2_pack, rho):\n",
    "    N = u1_initial.shape[0]\n",
    "    col2 = u2_pack.columns\n",
    "   \n",
    "    u2 = pd.DataFrame(index=range(N), columns=col2.to_list())\n",
    "    u_condition = [u1_initial[u1_initial.columns[0]][i][0] for i in range(N)]\n",
    "    ranges = [u2_pack[col2[0]][i][1:] for i in range(N)]\n",
    "\n",
    "    new_val = cdgaussian_copulas(u_condition,ranges,rho)\n",
    "    u2[col2[0]] = [[new_val[i],u2_pack[col2[0]][i][1],u2_pack[col2[0]][i][2]] for i in range(N)]\n",
    "    \n",
    "    return u2"
   ]
  },
  {
   "cell_type": "markdown",
   "metadata": {},
   "source": [
    "## MH for rho"
   ]
  },
  {
   "cell_type": "code",
   "execution_count": 462,
   "metadata": {},
   "outputs": [],
   "source": [
    "def log_copulas_val(u1,u2,rho):\n",
    "    mean = [0,0]\n",
    "    cov = [[1,rho],[rho,1]]\n",
    "    '''rv = multivariate_normal(mean,cov)\n",
    "    return np.log(rv.pdf([norm.ppf(u1),norm.ppf(u2)]))'''\n",
    "    inv_u1 = norm.ppf(u1)\n",
    "    inv_u2 = norm.ppf(u2)\n",
    "\n",
    "    # Create a multivariate normal distribution object\n",
    "    rv = multivariate_normal(mean, cov)\n",
    "    \n",
    "    # Combine inv_u1 and inv_u2 into a 2D array for vectorized evaluation\n",
    "    inv_uv = np.column_stack((inv_u1, inv_u2))\n",
    "    \n",
    "    # Calculate the log of the PDF values for all pairs in inv_uv\n",
    "    log_pdf_vals = rv.logpdf(inv_uv)\n",
    "\n",
    "    return log_pdf_vals\n",
    "\n",
    "def gc_acceptance_ratio(u, u_p,rho_vals):\n",
    "    rho,rho_p = rho_vals\n",
    "    u1,u2 = u\n",
    "    u1_p,u2_p = u_p\n",
    "\n",
    "    u1 = u1.to_numpy()\n",
    "    u2 = u2.to_numpy()\n",
    "    u1_p= u1_p.to_numpy()\n",
    "    u2_p = u2_p.to_numpy()\n",
    "    u1 = [li[0][0] for li in u1]\n",
    "    u2 = [li[0][0] for li in u2]\n",
    "    u1_p = [li[0][0] for li in u1_p]\n",
    "    u2_p = [li[0][0] for li in u2_p]\n",
    "    \n",
    "   \n",
    "    acc =sum( log_copulas_val(u1_p,u2_p,rho_p))-sum(log_copulas_val(u1,u2,rho))\n",
    "    return acc\n",
    "#gc_acceptance_ratio(initial_u[['MT-CO1']],initial_u[['MT-CO2']],(0.4,0.5),0.01)\n"
   ]
  },
  {
   "cell_type": "code",
   "execution_count": 396,
   "metadata": {},
   "outputs": [],
   "source": [
    "import numpy as np\n",
    "from scipy.stats import nbinom, norm\n",
    "\n",
    "def negative_binomial_marginal(num,r, p, u_raw):\n",
    "   \n",
    "    N, J = num.shape\n",
    "\n",
    "    rtn = [np.zeros((N, J)), np.zeros((N, J))]\n",
    "    \n",
    "    for j in range(J):\n",
    "        for n in range(N):\n",
    "            \n",
    "            Ubound = nbinom.cdf(num[n, j],r[j] , p[j])\n",
    "            Lbound = 0\n",
    "            if num[n, j] > 0:\n",
    "                Lbound = nbinom.cdf(num[n, j] - 1, r[j], p[j])\n",
    "            UmL = Ubound - Lbound\n",
    "            rtn[0][n, j] = norm.ppf(Lbound + UmL * u_raw[n, j])\n",
    "            rtn[1][n, j] = np.log(UmL)\n",
    "    \n",
    "    return rtn\n",
    "def apply_ng_marginal(name1,name2,u):\n",
    "    num = data_pro[[name1,name2]].values\n",
    "    r = fitted_para.loc[0,[name1,name2]].values\n",
    "    p = fitted_para.loc[1,[name1,name2]].values\n",
    "    u_raw = u\n",
    "    return negative_binomial_marginal(num,r, p, u_raw)"
   ]
  },
  {
   "cell_type": "code",
   "execution_count": 467,
   "metadata": {},
   "outputs": [
    {
     "name": "stdout",
     "output_type": "stream",
     "text": [
      "MT-CO1 and MT-CO3 acceptance rate is: 0.47\n"
     ]
    }
   ],
   "source": [
    "def metropolis_hastings_gc(u1, u2, sigma, n_iter=10000, burn_in=2000, thin=5):\n",
    "\n",
    "    trace = np.zeros(n_iter)\n",
    "    trace[0] = 0.5\n",
    "\n",
    "    acceptance_rate = np.zeros(n_iter)\n",
    "    rho = trace[0]\n",
    "\n",
    "    for i in range(1, n_iter):\n",
    "        rho = trace[i-1]\n",
    "        rho_p = truncnorm_prop_rho(rho, sigma)\n",
    "\n",
    "        u1_p = update_u(u2, u1, rho_p)\n",
    "        u2_p = update_u(u1, u2, rho_p)\n",
    "\n",
    "        alpha = gc_acceptance_ratio(\n",
    "            (u1, u2), (u1_p, u2_p), (rho, rho_p), sigma)\n",
    "        u = np.log(np.random.uniform(0., 1.))\n",
    "        \n",
    "        if u < alpha:\n",
    "            trace[i] = rho_p\n",
    "            acceptance_rate[i-1] = 1\n",
    "            u1 = u1_p\n",
    "            u2 = u2_p\n",
    "        else:\n",
    "            trace[i] = rho\n",
    "    print(u1.columns[0]+' and '+u2.columns[0]+\" acceptance rate is: %.2f\" % acceptance_rate[burn_in:].mean())\n",
    "    return pd.DataFrame(trace[burn_in::thin])\n",
    "\n",
    "trace_0 = metropolis_hastings_gc(initial_u[['MT-CO1']], initial_u[['MT-CO3']], sigma=0.01, n_iter=5000, burn_in=1000, thin=5)"
   ]
  },
  {
   "cell_type": "code",
   "execution_count": 468,
   "metadata": {},
   "outputs": [
    {
     "data": {
      "text/plain": [
       "[<matplotlib.lines.Line2D at 0x3099039b0>]"
      ]
     },
     "execution_count": 468,
     "metadata": {},
     "output_type": "execute_result"
    },
    {
     "data": {
      "image/png": "[encoded data removed]",
      "text/plain": [
       "<Figure size 640x480 with 1 Axes>"
      ]
     },
     "metadata": {},
     "output_type": "display_data"
    }
   ],
   "source": [
    "plt.plot(trace_0[0])"
   ]
  },
  {
   "cell_type": "code",
   "execution_count": 471,
   "metadata": {},
   "outputs": [
    {
     "name": "stdout",
     "output_type": "stream",
     "text": [
      "MT-CO1 and MT-CO2 acceptance rate is: 0.47\n",
      "0.3974134307493613\n"
     ]
    },
    {
     "name": "stderr",
     "output_type": "stream",
     "text": [
      "/var/folders/5q/z83yd5r96290nk8203y3gnkr0000gn/T/ipykernel_34356/2676697351.py:9: FutureWarning: Calling float on a single element Series is deprecated and will raise a TypeError in the future. Use float(ser.iloc[0]) instead\n",
      "  cor_o[i,j]=tra.mean()\n"
     ]
    },
    {
     "name": "stdout",
     "output_type": "stream",
     "text": [
      "MT-CO1 and MT-CO3 acceptance rate is: 0.46\n",
      "0.4101983725895667\n"
     ]
    },
    {
     "name": "stderr",
     "output_type": "stream",
     "text": [
      "/var/folders/5q/z83yd5r96290nk8203y3gnkr0000gn/T/ipykernel_34356/2676697351.py:9: FutureWarning: Calling float on a single element Series is deprecated and will raise a TypeError in the future. Use float(ser.iloc[0]) instead\n",
      "  cor_o[i,j]=tra.mean()\n"
     ]
    },
    {
     "name": "stdout",
     "output_type": "stream",
     "text": [
      "MT-CO1 and MT-CYB acceptance rate is: 0.41\n",
      "0.270869323853467\n"
     ]
    },
    {
     "name": "stderr",
     "output_type": "stream",
     "text": [
      "/var/folders/5q/z83yd5r96290nk8203y3gnkr0000gn/T/ipykernel_34356/2676697351.py:9: FutureWarning: Calling float on a single element Series is deprecated and will raise a TypeError in the future. Use float(ser.iloc[0]) instead\n",
      "  cor_o[i,j]=tra.mean()\n"
     ]
    },
    {
     "name": "stdout",
     "output_type": "stream",
     "text": [
      "MT-CO1 and MT-ND1 acceptance rate is: 0.47\n",
      "0.10789021276262552\n"
     ]
    },
    {
     "name": "stderr",
     "output_type": "stream",
     "text": [
      "/var/folders/5q/z83yd5r96290nk8203y3gnkr0000gn/T/ipykernel_34356/2676697351.py:9: FutureWarning: Calling float on a single element Series is deprecated and will raise a TypeError in the future. Use float(ser.iloc[0]) instead\n",
      "  cor_o[i,j]=tra.mean()\n"
     ]
    },
    {
     "name": "stdout",
     "output_type": "stream",
     "text": [
      "MT-CO1 and MT-ND2 acceptance rate is: 0.48\n",
      "0.1339473434225994\n"
     ]
    },
    {
     "name": "stderr",
     "output_type": "stream",
     "text": [
      "/var/folders/5q/z83yd5r96290nk8203y3gnkr0000gn/T/ipykernel_34356/2676697351.py:9: FutureWarning: Calling float on a single element Series is deprecated and will raise a TypeError in the future. Use float(ser.iloc[0]) instead\n",
      "  cor_o[i,j]=tra.mean()\n"
     ]
    },
    {
     "name": "stdout",
     "output_type": "stream",
     "text": [
      "MT-CO1 and MT-ND3 acceptance rate is: 0.49\n",
      "0.22795239432396563\n"
     ]
    },
    {
     "name": "stderr",
     "output_type": "stream",
     "text": [
      "/var/folders/5q/z83yd5r96290nk8203y3gnkr0000gn/T/ipykernel_34356/2676697351.py:9: FutureWarning: Calling float on a single element Series is deprecated and will raise a TypeError in the future. Use float(ser.iloc[0]) instead\n",
      "  cor_o[i,j]=tra.mean()\n"
     ]
    }
   ],
   "source": [
    "names = data_range.columns.to_list()\n",
    "traces = pd.DataFrame(index=names, columns=names)\n",
    "\n",
    "cor_o = np.zeros((13,13))\n",
    "for i in range(13):\n",
    "    for j in range(i+1,13):\n",
    "        tra = metropolis_hastings_gc(initial_u[[names[i]]], initial_u[[names[j]]], sigma=0.01, n_iter=5000, burn_in=1000, thin=5)\n",
    "        traces.loc[names[i],names[j]]= [tra[:100].mean()-tra[-100:].mean(),tra,tra.mean()]\n",
    "        cor_o[i,j]=tra.mean()\n",
    "        print(cor_o[i,j])\n",
    "print(cor_o)\n"
   ]
  }
 ],
 "metadata": {
  "kernelspec": {
   "display_name": "pymc_env",
   "language": "python",
   "name": "python3"
  },
  "language_info": {
   "codemirror_mode": {
    "name": "ipython",
    "version": 3
   },
   "file_extension": ".py",
   "mimetype": "text/x-python",
   "name": "python",
   "nbconvert_exporter": "python",
   "pygments_lexer": "ipython3",
   "version": "3.12.4"
  }
 },
 "nbformat": 4,
 "nbformat_minor": 2
}
