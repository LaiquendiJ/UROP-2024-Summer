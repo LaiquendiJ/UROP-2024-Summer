{
 "cells": [
  {
   "cell_type": "code",
   "execution_count": 3,
   "metadata": {},
   "outputs": [
    {
     "name": "stdout",
     "output_type": "stream",
     "text": [
      "   MT-TF  MT-RNR1  MT-TV  MT-RNR2  MT-TL1  MT-ND1  MT-TI  MT-TQ  MT-TM  \\\n",
      "0     71      954     69     1559      75     956     69     72     68   \n",
      "\n",
      "   MT-ND2  ...  MT-TH  MT-TS2  MT-TL2  MT-ND5  MT-ND6  MT-TE  MT-CYB  MT-TT  \\\n",
      "0    1042  ...     69      59      71    1812     525     69    1141     66   \n",
      "\n",
      "   MT-TP  non-MT  \n",
      "0     68       1  \n",
      "\n",
      "[1 rows x 38 columns]\n"
     ]
    }
   ],
   "source": [
    "import pandas as pd\n",
    "gene_length = pd.read_csv(\"../mt-datasets/gene_length.csv\")\n",
    "print(gene_length)"
   ]
  }
 ],
 "metadata": {
  "kernelspec": {
   "display_name": "pymc_env",
   "language": "python",
   "name": "python3"
  },
  "language_info": {
   "codemirror_mode": {
    "name": "ipython",
    "version": 3
   },
   "file_extension": ".py",
   "mimetype": "text/x-python",
   "name": "python",
   "nbconvert_exporter": "python",
   "pygments_lexer": "ipython3",
   "version": "3.12.4"
  }
 },
 "nbformat": 4,
 "nbformat_minor": 2
}
