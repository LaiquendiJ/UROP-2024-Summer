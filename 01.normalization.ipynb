{
 "cells": [
  {
   "cell_type": "markdown",
   "metadata": {},
   "source": [
    "# Normalization\n",
    "\n",
    "To normalize the dataset and account for sequencing depth, we employ a method inspired by Transcripts Per Kilobase Million (TPM). This normalization involves two key steps:\n",
    "\n",
    "#### 1.Remove Non-mtRNA Data: \n",
    "First, we discard the column containing non-mitochondrial RNA data to focus solely on mitochondrial RNA.\n",
    "#### 2.Normalize Gene Counts:\n",
    "Gene Length Normalization: For each gene, divide the raw gene count by its corresponding gene length (in kilobases). This step adjusts for differences in gene length, ensuring that longer genes do not artificially appear to have higher expression levels.\n",
    "#### 3.Row Sum Normalization: \n",
    "After length normalization, compute the sum of the normalized values for each row (representing each cell). Then, divide each value in the row by this row sum to adjust for differences in total read depth among cells.\n",
    "Extract Relevant Columns: Once the normalization is complete, select the columns of interest from the normalized dataset for further analysis."
   ]
  },
  {
   "cell_type": "code",
   "execution_count": 34,
   "metadata": {},
   "outputs": [],
   "source": [
    "import pandas as pd\n",
    "\n",
    "# Read the CSV files\n",
    "data1_cd4 = pd.read_csv(\"mt-datasets/Donor1_CD4_Genes.csv\")\n",
    "gene_length = pd.read_csv(\"mt-datasets/gene_length.csv\")\n"
   ]
  },
  {
   "cell_type": "code",
   "execution_count": 36,
   "metadata": {},
   "outputs": [
    {
     "name": "stdout",
     "output_type": "stream",
     "text": [
      "<bound method NDFrame.head of          MT-CO1      MT-CO2      MT-CO3     MT-CYB     MT-ND1     MT-ND2  \\\n",
      "0     30.321946  157.519157   98.532873  35.633457  25.517432   5.852847   \n",
      "1     56.998655  187.391412  158.818319  54.563349   30.64572   14.05821   \n",
      "2     34.060899  143.974522   79.553269  43.154502  24.035914   6.300612   \n",
      "3     48.433953  100.453718   87.640743  36.655291   9.374706   5.733985   \n",
      "4       11.5994  113.314603   41.825896  18.288624  18.709492   8.582665   \n",
      "...         ...         ...         ...        ...        ...        ...   \n",
      "2883  76.569801  129.463414   82.830164  20.695992  24.700969        0.0   \n",
      "2884  35.842777  174.038205   97.611078  29.808973   8.894361  20.400694   \n",
      "2885  28.668374  142.185075   78.940415  77.487524  23.120624        0.0   \n",
      "2886  50.678805  142.811982   110.75215  70.392164  13.623905   24.99895   \n",
      "2887  24.533582  147.488432  117.953121  62.627647  30.778182   4.033993   \n",
      "\n",
      "         MT-ND3     MT-ND4     MT-ND4L     MT-ND5     MT-ND6    MT-ATP6  \\\n",
      "0     33.509155   7.376229  136.894865   7.853323  27.105183   8.955457   \n",
      "1     30.182667  18.603153  184.957757   12.12637    6.97555  10.755253   \n",
      "2     54.109106   7.146486  221.051791    12.6812        0.0   4.820292   \n",
      "3      16.41432   8.671716  130.761888   9.892074  17.070893  21.933966   \n",
      "4     32.758744        0.0  140.520673   3.290337        0.0   4.377453   \n",
      "...         ...        ...         ...        ...        ...        ...   \n",
      "2883  32.436987   8.568261   99.386055   9.774059        0.0  26.006747   \n",
      "2884  70.079748   6.170544  200.407631    4.69261   8.098104  12.486064   \n",
      "2885  48.578717  22.456199   89.306328  12.198298   8.420311   6.491429   \n",
      "2886  29.817886  12.602277  146.177921   8.385869        0.0    6.37516   \n",
      "2887  11.547858   6.100755   99.070512  16.238379   8.006515        0.0   \n",
      "\n",
      "         MT-ATP8  \n",
      "0     333.904431  \n",
      "1     176.916116  \n",
      "2     126.864506  \n",
      "3     202.046797  \n",
      "4     201.616617  \n",
      "...          ...  \n",
      "2883  313.714243  \n",
      "2884  246.464042  \n",
      "2885  277.626194  \n",
      "2886  199.246862  \n",
      "2887  223.370161  \n",
      "\n",
      "[2887 rows x 13 columns]>\n"
     ]
    }
   ],
   "source": [
    "# Divide the read counts by the length of each gene\n",
    "df_norm_1 = data1_cd4.drop(columns=['non-MT'])\n",
    "df_norm_1 = df_norm_1.div(gene_length.iloc[0])\n",
    "\n",
    "# Drop non-MT values\n",
    "df_norm_1 = df_norm_1.drop(columns=['non-MT'])\n",
    "\n",
    "# Divide each value by the sum of its row\n",
    "row_sums = df_norm_1.sum(axis=1)\n",
    "\n",
    "# Drop zero lines to aviod dividing something by zero\n",
    "zero_indices = row_sums.index[row_sums == 0].tolist()\n",
    "df_norm_1 = df_norm_1.drop(index=zero_indices)\n",
    "row_sums = row_sums.drop(index=zero_indices)\n",
    "df_normalized = df_norm_1.div(row_sums, axis=0)\n",
    "\n",
    "# Get the interested mtRNA columns\n",
    "interested_genes = [\"MT-CO1\", \"MT-CO2\", \"MT-CO3\", \"MT-CYB\",\n",
    "                    \"MT-ND1\", \"MT-ND2\", \"MT-ND3\", \"MT-ND4\",\n",
    "                    \"MT-ND4L\", \"MT-ND5\", \"MT-ND6\", \"MT-ATP6\",\n",
    "                    \"MT-ATP8\"]\n",
    "df_normalized_fin = df_normalized[interested_genes] *1000\n",
    "print(df_normalized_fin.head)"
   ]
  }
 ],
 "metadata": {
  "kernelspec": {
   "display_name": "Python 3 (ipykernel)",
   "language": "python",
   "name": "python3"
  },
  "language_info": {
   "codemirror_mode": {
    "name": "ipython",
    "version": 3
   },
   "file_extension": ".py",
   "mimetype": "text/x-python",
   "name": "python",
   "nbconvert_exporter": "python",
   "pygments_lexer": "ipython3",
   "version": "3.11.7"
  }
 },
 "nbformat": 4,
 "nbformat_minor": 4
}
