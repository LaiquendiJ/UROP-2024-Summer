{
 "cells": [
  {
   "cell_type": "markdown",
   "metadata": {},
   "source": [
    "# Normalization\n",
    "\n",
    "To normalize the dataset and account for sequencing depth, we employ a method inspired by Transcripts Per Kilobase Million (TPM). This normalization involves two key steps:\n",
    "\n",
    "#### 1.Remove Non-mtRNA Data: \n",
    "First, we discard the column containing non-mitochondrial RNA data to focus solely on mitochondrial RNA.\n",
    "#### 2.Normalize Gene Counts:\n",
    "Gene Length Normalization: For each gene, divide the raw gene count by its corresponding gene length (in kilobases). This step adjusts for differences in gene length, ensuring that longer genes do not artificially appear to have higher expression levels.\n",
    "#### 3.Row Sum Normalization: \n",
    "After length normalization, compute the sum of the normalized values for each row (representing each cell). Then, divide each value in the row by this row sum to adjust for differences in total read depth among cells.\n",
    "Extract Relevant Columns: Once the normalization is complete, select the columns of interest from the normalized dataset for further analysis."
   ]
  },
  {
   "cell_type": "code",
   "execution_count": 20,
   "metadata": {},
   "outputs": [],
   "source": [
    "import pandas as pd\n",
    "\n",
    "# Read the CSV files\n",
    "data1_cd4 = pd.read_csv(\"mt-datasets/Donor1_CD4_Genes.csv\")\n",
    "gene_length = pd.read_csv(\"mt-datasets/gene_length.csv\")\n",
    "data1_cd4 = data1_cd4.loc[:, ~data1_cd4.columns.str.contains('^Unnamed')]"
   ]
  },
  {
   "cell_type": "code",
   "execution_count": 28,
   "metadata": {},
   "outputs": [
    {
     "name": "stdout",
     "output_type": "stream",
     "text": [
      "<bound method NDFrame.head of         MT-CO1    MT-CO2    MT-CO3    MT-CYB   MT-ND1   MT-ND2   MT-ND3  \\\n",
      "0      77441.0  178451.0  127946.0   67340.0  40404.0  10101.0  20202.0   \n",
      "1     126984.0  185185.0  179894.0   89947.0  42328.0  21164.0  15873.0   \n",
      "2      67511.0  126582.0   80169.0   63291.0  29536.0   8439.0  25316.0   \n",
      "3      89606.0   82437.0   82437.0   50179.0  10753.0   7168.0   7168.0   \n",
      "4      23346.0  101167.0   42802.0   27237.0  23346.0  11673.0  15564.0   \n",
      "...        ...       ...       ...       ...      ...      ...      ...   \n",
      "2883  163934.0  122951.0   90164.0   32787.0  32787.0      0.0  16393.0   \n",
      "2884   92199.0  198582.0  127660.0   56738.0  14184.0  35461.0  42553.0   \n",
      "2885   59524.0  130952.0   83333.0  119048.0  29762.0      0.0  23810.0   \n",
      "2886   99723.0  124654.0  110803.0  102493.0  16620.0  33241.0  13850.0   \n",
      "2887   45918.0  122449.0  112245.0   86735.0  35714.0   5102.0   5102.0   \n",
      "\n",
      "       MT-ND4  MT-ND4L   MT-ND5   MT-ND6  MT-ATP6   MT-ATP8  \n",
      "0     16835.0  67340.0  23569.0  23569.0  10101.0  114478.0  \n",
      "1     37037.0  79365.0  31746.0   5291.0  10582.0   52910.0  \n",
      "2     12658.0  84388.0  29536.0      0.0   4219.0   33755.0  \n",
      "3     14337.0  46595.0  21505.0  10753.0  17921.0   50179.0  \n",
      "4         0.0  54475.0   7782.0      0.0   3891.0   54475.0  \n",
      "...       ...      ...      ...      ...      ...       ...  \n",
      "2883  16393.0  40984.0  24590.0      0.0  24590.0   90164.0  \n",
      "2884  14184.0  99291.0  14184.0   7092.0  14184.0   85106.0  \n",
      "2885  41667.0  35714.0  29762.0   5952.0   5952.0   77381.0  \n",
      "2886  22161.0  55402.0  19391.0      0.0   5540.0   52632.0  \n",
      "2887  10204.0  35714.0  35714.0   5102.0      0.0   56122.0  \n",
      "\n",
      "[2887 rows x 13 columns]>\n"
     ]
    }
   ],
   "source": [
    "# Divide the read counts by the length of each gene\n",
    "df_norm_1 = data1_cd4.drop(columns=['non-MT'])\n",
    "\n",
    "row_sums = df_norm_1.sum(axis=1)\n",
    "\n",
    "# Drop zero lines to aviod dividing something by zero\n",
    "zero_indices = row_sums.index[row_sums == 0].tolist()\n",
    "df_norm_1 = df_norm_1.drop(index=zero_indices)\n",
    "\n",
    "row_sums = row_sums.drop(index=zero_indices)\n",
    "df_normalized = df_norm_1.div(row_sums, axis=0)\n",
    "\n",
    "# Get the interested mtRNA columns\n",
    "interested_genes = [\"MT-CO1\", \"MT-CO2\", \"MT-CO3\", \"MT-CYB\",\n",
    "                    \"MT-ND1\", \"MT-ND2\", \"MT-ND3\", \"MT-ND4\",\n",
    "                    \"MT-ND4L\", \"MT-ND5\", \"MT-ND6\", \"MT-ATP6\",\n",
    "                    \"MT-ATP8\"]\n",
    "df_normalized_fin = round(df_normalized[interested_genes] *1000000)\n",
    "print(df_normalized_fin.head)"
   ]
  },
  {
   "cell_type": "code",
   "execution_count": null,
   "metadata": {},
   "outputs": [],
   "source": []
  }
 ],
 "metadata": {
  "kernelspec": {
   "display_name": "Python 3 (ipykernel)",
   "language": "python",
   "name": "python3"
  },
  "language_info": {
   "codemirror_mode": {
    "name": "ipython",
    "version": 3
   },
   "file_extension": ".py",
   "mimetype": "text/x-python",
   "name": "python",
   "nbconvert_exporter": "python",
   "pygments_lexer": "ipython3",
   "version": "3.12.4"
  }
 },
 "nbformat": 4,
 "nbformat_minor": 4
}
